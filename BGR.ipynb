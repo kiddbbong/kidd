{
 "cells": [
  {
   "cell_type": "code",
   "execution_count": 1,
   "metadata": {},
   "outputs": [],
   "source": [
    "import numpy as np\n",
    "import cv2 as cv"
   ]
  },
  {
   "cell_type": "code",
   "execution_count": 2,
   "metadata": {},
   "outputs": [
    {
     "name": "stdout",
     "output_type": "stream",
     "text": [
      "px 값은 :  [45 36 62]\n"
     ]
    }
   ],
   "source": [
    "img = cv.imread('/home/socmgr/messi5.jpg')\n",
    "px = img[100, 100]\n",
    "print( \"px 값은 : \", px )"
   ]
  },
  {
   "cell_type": "code",
   "execution_count": 3,
   "metadata": {},
   "outputs": [
    {
     "name": "stdout",
     "output_type": "stream",
     "text": [
      "45\n"
     ]
    }
   ],
   "source": [
    "#accessing only blue pixel\n",
    "RED = img[100, 100, 0]\n",
    "print( RED )"
   ]
  },
  {
   "cell_type": "code",
   "execution_count": 4,
   "metadata": {},
   "outputs": [
    {
     "name": "stdout",
     "output_type": "stream",
     "text": [
      "[0 0 0]\n",
      "1095930\n",
      "(451, 810, 3)\n"
     ]
    }
   ],
   "source": [
    "img[100, 100] = [0, 0, 0]\n",
    "print( img[100, 100])\n",
    "\n",
    "print( img.size )\n",
    "print( img.shape )"
   ]
  },
  {
   "cell_type": "code",
   "execution_count": 5,
   "metadata": {},
   "outputs": [
    {
     "name": "stdout",
     "output_type": "stream",
     "text": [
      "41\n",
      "100\n"
     ]
    }
   ],
   "source": [
    "#accessing RED value\n",
    "img.item(10, 10, 2)\n",
    "\n",
    "print(img.item(10, 10, 2))\n",
    "\n",
    "#modifying RED value\n",
    "img.itemset((100, 100, 2), 100)\n",
    "img.item(100, 100, 2)\n",
    "print(img.item(100, 100, 2))"
   ]
  },
  {
   "cell_type": "code",
   "execution_count": 6,
   "metadata": {},
   "outputs": [],
   "source": [
    "#b,g,r = cv.split( img )\n",
    "#img = cv.merge((b,g,r))\n",
    "\n",
    "img[100,100,0] = 0\n",
    "img[100,100,1] = 0\n",
    "\n",
    "img[:,:,0] = 0\n",
    "\n",
    "cv.imshow('img', img)\n",
    "cv.waitKey(0)\n",
    "cv.destroyAllWindows()"
   ]
  },
  {
   "cell_type": "code",
   "execution_count": null,
   "metadata": {},
   "outputs": [],
   "source": []
  }
 ],
 "metadata": {
  "kernelspec": {
   "display_name": "Python 3",
   "language": "python",
   "name": "python3"
  },
  "language_info": {
   "codemirror_mode": {
    "name": "ipython",
    "version": 3
   },
   "file_extension": ".py",
   "mimetype": "text/x-python",
   "name": "python",
   "nbconvert_exporter": "python",
   "pygments_lexer": "ipython3",
   "version": "3.5.2"
  }
 },
 "nbformat": 4,
 "nbformat_minor": 2
}
